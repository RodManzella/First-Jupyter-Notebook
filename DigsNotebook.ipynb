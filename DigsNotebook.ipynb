{
 "cells": [
  {
   "cell_type": "markdown",
   "id": "a5596797-7e16-4741-8b4c-92a0a9b85810",
   "metadata": {},
   "source": [
    "---\n",
    "# My first Jupyter Notebook\n",
    "---"
   ]
  },
  {
   "cell_type": "markdown",
   "id": "60479484-2a42-46d2-b4e0-deb713ba4418",
   "metadata": {},
   "source": [
    "\n",
    "Hello, this is my first Jupyter Notebook! :)\n",
    "\n",
    "\n",
    "\n",
    "\n",
    "\n",
    "---"
   ]
  },
  {
   "cell_type": "markdown",
   "id": "119421e8-7a5f-46e6-b08a-e6a2769bf32c",
   "metadata": {},
   "source": [
    "### Here is a list of some languages that are used in Data Science\n",
    "\n",
    "* Python\n",
    "* Java\n",
    "* Julia\n",
    "* Scala\n",
    "* R\n",
    "* SQL\n",
    "---"
   ]
  },
  {
   "cell_type": "markdown",
   "id": "cb9eb420-0d14-47a2-9d2b-fa89e8f336f4",
   "metadata": {},
   "source": [
    "### List of Data Science Libraries"
   ]
  },
  {
   "cell_type": "markdown",
   "id": "95949cad-9326-4511-816c-663c25ddfbaa",
   "metadata": {
    "tags": []
   },
   "source": [
    "- Keras\n",
    "- Pandas\n",
    "- Scikit-learn\n",
    "- Pytorch\n",
    "- Matplotlib\n",
    "- NumPy\n",
    "- Seaborn\n",
    "- TensorFlow\n",
    "---\n",
    "\n"
   ]
  },
  {
   "cell_type": "markdown",
   "id": "c5e82a99-d1b3-45f0-8255-3ccd4d3d2655",
   "metadata": {
    "tags": []
   },
   "source": [
    "### Table with tools for Data Science\n",
    "\n",
    "| Tool                   | Description                                                         |\n",
    "|------------------------|---------------------------------------------------------------------|\n",
    "| NumPy                  | Fundamental package for numerical computing with Python.            |\n",
    "| Pandas                 | Powerful data analysis and manipulation library for Python.         |\n",
    "| Matplotlib             | Comprehensive 2D plotting library for creating visualizations.      |\n",
    "| Seaborn                | Data visualization library based on Matplotlib for statistical plots.|\n",
    "| SciPy                  | Library for scientific and technical computing in Python.           |\n",
    "| Scikit-learn           | Machine learning library with various algorithms and utilities.     |\n",
    "\n",
    "---\n"
   ]
  },
  {
   "cell_type": "markdown",
   "id": "803f0352-704f-4f6b-b897-d4d1b433dbae",
   "metadata": {},
   "source": [
    "### Examples of arithmetic expressions\n",
    "\n",
    "1)  (2 + 3) / 5\n",
    "2)  7 * 3 + 25\n",
    "3)  (78,5) ^ 2 + 11\n",
    "---"
   ]
  },
  {
   "cell_type": "markdown",
   "id": "846108ce-6151-4d15-b567-60a28b696484",
   "metadata": {},
   "source": [
    "### Functions to add and multiply two numbers in Python, respectively\n"
   ]
  },
  {
   "cell_type": "code",
   "execution_count": null,
   "id": "63704aea-d6bf-46de-a3ca-151832b37ce0",
   "metadata": {},
   "outputs": [],
   "source": [
    "def add(x, y):\n",
    "    return x + y"
   ]
  },
  {
   "cell_type": "code",
   "execution_count": null,
   "id": "6b9cc907-d301-4e80-a188-235b7e08503a",
   "metadata": {
    "tags": []
   },
   "outputs": [],
   "source": [
    "def mult(x, y):\n",
    "    return x * y\n"
   ]
  },
  {
   "cell_type": "markdown",
   "id": "03172ff6-3668-46a4-a25a-9c71c6a325c8",
   "metadata": {},
   "source": [
    "---"
   ]
  },
  {
   "cell_type": "markdown",
   "id": "e7d4a4ac-7dd4-4069-b653-b19db597a465",
   "metadata": {},
   "source": [
    "### Function to convert minutes to hours in Python"
   ]
  },
  {
   "cell_type": "code",
   "execution_count": 1,
   "id": "785aa5c2-0afe-4382-b8f3-a781211f4bcb",
   "metadata": {
    "tags": []
   },
   "outputs": [],
   "source": [
    "def conversion(min):\n",
    "    return min / 60"
   ]
  },
  {
   "cell_type": "markdown",
   "id": "d102a5f6-ee7f-4f92-a857-84d8510b0b4d",
   "metadata": {},
   "source": [
    "---"
   ]
  },
  {
   "cell_type": "markdown",
   "id": "ec94a1b3-4e2a-4501-bfd1-4a9bbb931318",
   "metadata": {},
   "source": [
    "### Objectives:\n",
    "\n",
    "1. Get the certificate\n",
    "2. Get a Job\n",
    "\n",
    "---"
   ]
  },
  {
   "cell_type": "markdown",
   "id": "f6e2ee69-d144-41fd-bcac-be597125a6d6",
   "metadata": {},
   "source": [
    "### Author\n",
    "\n",
    "Rodrigo Teixeira"
   ]
  },
  {
   "cell_type": "code",
   "execution_count": null,
   "id": "95a3ac31-0a8b-44bc-8f58-e7d0a7401d74",
   "metadata": {},
   "outputs": [],
   "source": []
  }
 ],
 "metadata": {
  "kernelspec": {
   "display_name": "Python",
   "language": "python",
   "name": "conda-env-python-py"
  },
  "language_info": {
   "codemirror_mode": {
    "name": "ipython",
    "version": 3
   },
   "file_extension": ".py",
   "mimetype": "text/x-python",
   "name": "python",
   "nbconvert_exporter": "python",
   "pygments_lexer": "ipython3",
   "version": "3.7.12"
  }
 },
 "nbformat": 4,
 "nbformat_minor": 5
}
